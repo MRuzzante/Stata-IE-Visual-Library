{
 "cells": [
  {
   "cell_type": "markdown",
   "metadata": {},
   "source": [
    "### 1. Running ado.file"
   ]
  },
  {
   "cell_type": "code",
   "execution_count": null,
   "metadata": {},
   "outputs": [],
   "source": [
    "qui do \"https://raw.githubusercontent.com/worldbank/Stata-IE-Visual-Library/develop/Library/Venn%20Diagram/Venn%20Diagram%20through%20website/vennprep.ado\""
   ]
  },
  {
   "cell_type": "markdown",
   "metadata": {},
   "source": [
    "###  2. Uploading data for only selected values"
   ]
  },
  {
   "cell_type": "code",
   "execution_count": null,
   "metadata": {},
   "outputs": [],
   "source": [
    "use \"https://github.com/worldbank/Stata-IE-Visual-Library/raw/develop/Library/Venn%20Diagram/Venn%20Diagram%20through%20website/data.dta\" ///\n",
    "\t\tif correct == 0 & case == 1 ///\n",
    "\t\t, clear"
   ]
  },
  {
   "cell_type": "markdown",
   "metadata": {},
   "source": [
    "### 3.  Prepare for the graph"
   ]
  },
  {
   "cell_type": "code",
   "execution_count": null,
   "metadata": {},
   "outputs": [],
   "source": [
    "vennprep  med_l_any_2 med_k_any_16 med_l_any_3 med_k_any_9"
   ]
  },
  {
   "cell_type": "markdown",
   "metadata": {},
   "source": [
    "### 4. Create the graph\n",
    "\n",
    "Data then entered into generator at http://www.pangloss.com/seidel/Protocols/venn4.cgi\n",
    "*In the website, enter name of first column in the \"List Name 1\", and values from column 2 in the \"List 1\", and so on."
   ]
  }
 ],
 "metadata": {
  "kernelspec": {
   "display_name": "Stata",
   "language": "stata",
   "name": "stata"
  },
  "language_info": {
   "file_extension": ".do",
   "mimetype": "text/x-stata",
   "name": "stata"
  }
 },
 "nbformat": 4,
 "nbformat_minor": 2
}
